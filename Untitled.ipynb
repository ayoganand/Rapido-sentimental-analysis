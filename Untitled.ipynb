{
 "cells": [
  {
   "cell_type": "code",
   "execution_count": 1,
   "metadata": {
    "scrolled": true
   },
   "outputs": [
    {
     "name": "stdout",
     "output_type": "stream",
     "text": [
      "Collecting spacy\n",
      "  Downloading https://files.pythonhosted.org/packages/39/c9/6c6bbb563588cd9b5d155ebda200796911588fb46a85e5f4d21b7b2ab759/spacy-2.2.4-cp37-cp37m-win_amd64.whl (9.9MB)\n",
      "Collecting blis<0.5.0,>=0.4.0 (from spacy)\n",
      "  Downloading https://files.pythonhosted.org/packages/d5/7e/1981d5389b75543f950026de40a9d346e2aec7e860b2800e54e65bd46c06/blis-0.4.1-cp37-cp37m-win_amd64.whl (5.0MB)\n",
      "Collecting cymem<2.1.0,>=2.0.2 (from spacy)\n",
      "  Downloading https://files.pythonhosted.org/packages/84/d1/35eab0c8cc9fd9432becaf3e90144762b3201a45079e62c47a8ae8739763/cymem-2.0.3-cp37-cp37m-win_amd64.whl\n",
      "Requirement already satisfied, skipping upgrade: numpy>=1.15.0 in c:\\users\\yoganand\\anaconda3\\lib\\site-packages (from spacy) (1.16.5)\n",
      "Requirement already satisfied, skipping upgrade: requests<3.0.0,>=2.13.0 in c:\\users\\yoganand\\anaconda3\\lib\\site-packages (from spacy) (2.22.0)\n",
      "Collecting preshed<3.1.0,>=3.0.2 (from spacy)\n",
      "  Downloading https://files.pythonhosted.org/packages/3c/5a/0d1b575ed40989d74fab25723083837c220246b25f3582917135cb32453f/preshed-3.0.2-cp37-cp37m-win_amd64.whl (105kB)\n",
      "Collecting srsly<1.1.0,>=1.0.2 (from spacy)\n",
      "  Downloading https://files.pythonhosted.org/packages/fd/31/edaf3cdb7fcb644a51c7a568bc62a8c8d7462e61fa79b090f4d12d73d39e/srsly-1.0.2-cp37-cp37m-win_amd64.whl (179kB)\n",
      "Collecting murmurhash<1.1.0,>=0.28.0 (from spacy)\n",
      "  Downloading https://files.pythonhosted.org/packages/4f/7b/d77bc9bb101e113884b2d70a118e7ec8dcc9846a35a0e10d47ca37acdcbf/murmurhash-1.0.2-cp37-cp37m-win_amd64.whl\n",
      "Collecting tqdm<5.0.0,>=4.38.0 (from spacy)\n",
      "  Downloading https://files.pythonhosted.org/packages/4a/1c/6359be64e8301b84160f6f6f7936bbfaaa5e9a4eab6cbc681db07600b949/tqdm-4.45.0-py2.py3-none-any.whl (60kB)\n",
      "Collecting thinc==7.4.0 (from spacy)\n",
      "  Downloading https://files.pythonhosted.org/packages/7b/5e/d7e297587f75f4932b57b47163fb92f7b479939327ca83badc0938194415/thinc-7.4.0-cp37-cp37m-win_amd64.whl (2.1MB)\n",
      "Collecting catalogue<1.1.0,>=0.0.7 (from spacy)\n",
      "  Downloading https://files.pythonhosted.org/packages/6c/f9/9a5658e2f56932e41eb264941f9a2cb7f3ce41a80cb36b2af6ab78e2f8af/catalogue-1.0.0-py2.py3-none-any.whl\n",
      "Requirement already satisfied, skipping upgrade: setuptools in c:\\users\\yoganand\\anaconda3\\lib\\site-packages (from spacy) (41.4.0)\n",
      "Collecting wasabi<1.1.0,>=0.4.0 (from spacy)\n",
      "  Downloading https://files.pythonhosted.org/packages/21/e1/e4e7b754e6be3a79c400eb766fb34924a6d278c43bb828f94233e0124a21/wasabi-0.6.0-py3-none-any.whl\n",
      "Collecting plac<1.2.0,>=0.9.6 (from spacy)\n",
      "  Downloading https://files.pythonhosted.org/packages/86/85/40b8f66c2dd8f4fd9f09d59b22720cffecf1331e788b8a0cab5bafb353d1/plac-1.1.3-py2.py3-none-any.whl\n",
      "Requirement already satisfied, skipping upgrade: idna<2.9,>=2.5 in c:\\users\\yoganand\\anaconda3\\lib\\site-packages (from requests<3.0.0,>=2.13.0->spacy) (2.8)\n",
      "Requirement already satisfied, skipping upgrade: urllib3!=1.25.0,!=1.25.1,<1.26,>=1.21.1 in c:\\users\\yoganand\\anaconda3\\lib\\site-packages (from requests<3.0.0,>=2.13.0->spacy) (1.25.3)\n",
      "Requirement already satisfied, skipping upgrade: certifi>=2017.4.17 in c:\\users\\yoganand\\anaconda3\\lib\\site-packages (from requests<3.0.0,>=2.13.0->spacy) (2019.9.11)\n",
      "Requirement already satisfied, skipping upgrade: chardet<3.1.0,>=3.0.2 in c:\\users\\yoganand\\anaconda3\\lib\\site-packages (from requests<3.0.0,>=2.13.0->spacy) (3.0.4)\n",
      "Requirement already satisfied, skipping upgrade: importlib-metadata>=0.20; python_version < \"3.8\" in c:\\users\\yoganand\\anaconda3\\lib\\site-packages (from catalogue<1.1.0,>=0.0.7->spacy) (0.23)\n",
      "Requirement already satisfied, skipping upgrade: zipp>=0.5 in c:\\users\\yoganand\\anaconda3\\lib\\site-packages (from importlib-metadata>=0.20; python_version < \"3.8\"->catalogue<1.1.0,>=0.0.7->spacy) (0.6.0)\n",
      "Requirement already satisfied, skipping upgrade: more-itertools in c:\\users\\yoganand\\anaconda3\\lib\\site-packages (from zipp>=0.5->importlib-metadata>=0.20; python_version < \"3.8\"->catalogue<1.1.0,>=0.0.7->spacy) (7.2.0)\n",
      "Installing collected packages: blis, cymem, murmurhash, preshed, srsly, tqdm, wasabi, catalogue, plac, thinc, spacy\n",
      "  Found existing installation: tqdm 4.36.1\n",
      "    Uninstalling tqdm-4.36.1:\n",
      "      Successfully uninstalled tqdm-4.36.1\n",
      "Successfully installed blis-0.4.1 catalogue-1.0.0 cymem-2.0.3 murmurhash-1.0.2 plac-1.1.3 preshed-3.0.2 spacy-2.2.4 srsly-1.0.2 thinc-7.4.0 tqdm-4.45.0 wasabi-0.6.0\n"
     ]
    }
   ],
   "source": [
    "!pip install -U spacy"
   ]
  },
  {
   "cell_type": "code",
   "execution_count": 3,
   "metadata": {},
   "outputs": [
    {
     "name": "stdout",
     "output_type": "stream",
     "text": [
      "Collecting en_core_web_md==2.2.5 from https://github.com/explosion/spacy-models/releases/download/en_core_web_md-2.2.5/en_core_web_md-2.2.5.tar.gz#egg=en_core_web_md==2.2.5\n",
      "  Downloading https://github.com/explosion/spacy-models/releases/download/en_core_web_md-2.2.5/en_core_web_md-2.2.5.tar.gz (96.4MB)\n",
      "Requirement already satisfied: spacy>=2.2.2 in c:\\users\\yoganand\\anaconda3\\lib\\site-packages (from en_core_web_md==2.2.5) (2.2.4)\n",
      "Requirement already satisfied: plac<1.2.0,>=0.9.6 in c:\\users\\yoganand\\anaconda3\\lib\\site-packages (from spacy>=2.2.2->en_core_web_md==2.2.5) (1.1.3)\n",
      "Requirement already satisfied: preshed<3.1.0,>=3.0.2 in c:\\users\\yoganand\\anaconda3\\lib\\site-packages (from spacy>=2.2.2->en_core_web_md==2.2.5) (3.0.2)\n",
      "Requirement already satisfied: blis<0.5.0,>=0.4.0 in c:\\users\\yoganand\\anaconda3\\lib\\site-packages (from spacy>=2.2.2->en_core_web_md==2.2.5) (0.4.1)\n",
      "Requirement already satisfied: setuptools in c:\\users\\yoganand\\anaconda3\\lib\\site-packages (from spacy>=2.2.2->en_core_web_md==2.2.5) (41.4.0)\n",
      "Requirement already satisfied: cymem<2.1.0,>=2.0.2 in c:\\users\\yoganand\\anaconda3\\lib\\site-packages (from spacy>=2.2.2->en_core_web_md==2.2.5) (2.0.3)\n",
      "Requirement already satisfied: numpy>=1.15.0 in c:\\users\\yoganand\\anaconda3\\lib\\site-packages (from spacy>=2.2.2->en_core_web_md==2.2.5) (1.16.5)\n",
      "Requirement already satisfied: requests<3.0.0,>=2.13.0 in c:\\users\\yoganand\\anaconda3\\lib\\site-packages (from spacy>=2.2.2->en_core_web_md==2.2.5) (2.22.0)\n",
      "Requirement already satisfied: tqdm<5.0.0,>=4.38.0 in c:\\users\\yoganand\\anaconda3\\lib\\site-packages (from spacy>=2.2.2->en_core_web_md==2.2.5) (4.45.0)\n",
      "Requirement already satisfied: murmurhash<1.1.0,>=0.28.0 in c:\\users\\yoganand\\anaconda3\\lib\\site-packages (from spacy>=2.2.2->en_core_web_md==2.2.5) (1.0.2)\n",
      "Requirement already satisfied: srsly<1.1.0,>=1.0.2 in c:\\users\\yoganand\\anaconda3\\lib\\site-packages (from spacy>=2.2.2->en_core_web_md==2.2.5) (1.0.2)\n",
      "Requirement already satisfied: catalogue<1.1.0,>=0.0.7 in c:\\users\\yoganand\\anaconda3\\lib\\site-packages (from spacy>=2.2.2->en_core_web_md==2.2.5) (1.0.0)\n",
      "Requirement already satisfied: thinc==7.4.0 in c:\\users\\yoganand\\anaconda3\\lib\\site-packages (from spacy>=2.2.2->en_core_web_md==2.2.5) (7.4.0)\n",
      "Requirement already satisfied: wasabi<1.1.0,>=0.4.0 in c:\\users\\yoganand\\anaconda3\\lib\\site-packages (from spacy>=2.2.2->en_core_web_md==2.2.5) (0.6.0)\n",
      "Requirement already satisfied: certifi>=2017.4.17 in c:\\users\\yoganand\\anaconda3\\lib\\site-packages (from requests<3.0.0,>=2.13.0->spacy>=2.2.2->en_core_web_md==2.2.5) (2019.9.11)\n",
      "Requirement already satisfied: chardet<3.1.0,>=3.0.2 in c:\\users\\yoganand\\anaconda3\\lib\\site-packages (from requests<3.0.0,>=2.13.0->spacy>=2.2.2->en_core_web_md==2.2.5) (3.0.4)\n",
      "Requirement already satisfied: urllib3!=1.25.0,!=1.25.1,<1.26,>=1.21.1 in c:\\users\\yoganand\\anaconda3\\lib\\site-packages (from requests<3.0.0,>=2.13.0->spacy>=2.2.2->en_core_web_md==2.2.5) (1.25.3)\n",
      "Requirement already satisfied: idna<2.9,>=2.5 in c:\\users\\yoganand\\anaconda3\\lib\\site-packages (from requests<3.0.0,>=2.13.0->spacy>=2.2.2->en_core_web_md==2.2.5) (2.8)\n",
      "Requirement already satisfied: importlib-metadata>=0.20; python_version < \"3.8\" in c:\\users\\yoganand\\anaconda3\\lib\\site-packages (from catalogue<1.1.0,>=0.0.7->spacy>=2.2.2->en_core_web_md==2.2.5) (0.23)\n",
      "Requirement already satisfied: zipp>=0.5 in c:\\users\\yoganand\\anaconda3\\lib\\site-packages (from importlib-metadata>=0.20; python_version < \"3.8\"->catalogue<1.1.0,>=0.0.7->spacy>=2.2.2->en_core_web_md==2.2.5) (0.6.0)\n",
      "Requirement already satisfied: more-itertools in c:\\users\\yoganand\\anaconda3\\lib\\site-packages (from zipp>=0.5->importlib-metadata>=0.20; python_version < \"3.8\"->catalogue<1.1.0,>=0.0.7->spacy>=2.2.2->en_core_web_md==2.2.5) (7.2.0)\n",
      "Building wheels for collected packages: en-core-web-md\n",
      "  Building wheel for en-core-web-md (setup.py): started\n",
      "  Building wheel for en-core-web-md (setup.py): finished with status 'done'\n",
      "  Created wheel for en-core-web-md: filename=en_core_web_md-2.2.5-cp37-none-any.whl size=98051308 sha256=1c5437e80454af3ad9d9776e3e63983bf53b6bfa36e5f4031fd4c1a45a39f409\n",
      "  Stored in directory: C:\\Users\\Yoganand\\AppData\\Local\\Temp\\pip-ephem-wheel-cache-j1eyd0s2\\wheels\\df\\94\\ad\\f5cf59224cea6b5686ac4fd1ad19c8a07bc026e13c36502d81\n",
      "Successfully built en-core-web-md\n",
      "Installing collected packages: en-core-web-md\n",
      "Successfully installed en-core-web-md-2.2.5\n",
      "[+] Download and installation successful\n",
      "You can now load the model via spacy.load('en_core_web_md')\n"
     ]
    }
   ],
   "source": [
    "!python -m spacy download en_core_web_md"
   ]
  },
  {
   "cell_type": "code",
   "execution_count": 4,
   "metadata": {},
   "outputs": [],
   "source": [
    "import spacy"
   ]
  },
  {
   "cell_type": "code",
   "execution_count": 5,
   "metadata": {},
   "outputs": [],
   "source": [
    "from collections import Counter\n",
    "from string import punctuation"
   ]
  },
  {
   "cell_type": "code",
   "execution_count": 6,
   "metadata": {},
   "outputs": [],
   "source": [
    "nlp = spacy.load(\"en_core_web_md\")"
   ]
  },
  {
   "cell_type": "code",
   "execution_count": 7,
   "metadata": {},
   "outputs": [],
   "source": [
    "import en_core_web_md \n",
    "nlp = en_core_web_md.load()"
   ]
  },
  {
   "cell_type": "code",
   "execution_count": 8,
   "metadata": {},
   "outputs": [],
   "source": [
    "def get_hotwords(text):\n",
    "    result = []\n",
    "    pos_tag = ['PROPN', 'ADJ', 'NOUN'] # 1\n",
    "    doc = nlp(text.lower()) # 2\n",
    "    for token in doc:\n",
    "        # 3\n",
    "        if(token.text in nlp.Defaults.stop_words or token.text in punctuation):\n",
    "            continue\n",
    "        # 4\n",
    "        if(token.pos_ in pos_tag):\n",
    "            result.append(token.text)\n",
    "                \n",
    "    return result # 5"
   ]
  },
  {
   "cell_type": "code",
   "execution_count": 10,
   "metadata": {},
   "outputs": [],
   "source": [
    "teststr = \"Gosh...Worst app ever...terribly slow...n team should do something about it...takes ages for the amount to reflect in Link.Had an important meeting today,thought will take rapido... unfortunately money was just not reflecting...had to take an auto ...GPS Don't work properly..doesnt pick up right locFull Review\""
   ]
  },
  {
   "cell_type": "code",
   "execution_count": 11,
   "metadata": {},
   "outputs": [
    {
     "data": {
      "text/plain": [
       "['worst',\n",
       " 'app',\n",
       " 'slow',\n",
       " 'n',\n",
       " 'team',\n",
       " 'ages',\n",
       " 'link.had',\n",
       " 'important',\n",
       " 'meeting',\n",
       " 'today',\n",
       " 'rapido',\n",
       " 'money',\n",
       " 'auto',\n",
       " 'gps',\n",
       " 'locfull',\n",
       " 'review']"
      ]
     },
     "execution_count": 11,
     "metadata": {},
     "output_type": "execute_result"
    }
   ],
   "source": [
    "get_hotwords(teststr)"
   ]
  },
  {
   "cell_type": "code",
   "execution_count": 49,
   "metadata": {},
   "outputs": [],
   "source": [
    "import pandas as pd\n",
    "rapido_test = pd.read_excel('test_dataset.xlsx')\n",
    "\n"
   ]
  },
  {
   "cell_type": "code",
   "execution_count": 30,
   "metadata": {},
   "outputs": [],
   "source": [
    "mydf = (rapido_test[\"Target\"]==\"bad\")\n",
    "mydf_r = rapido_train[mydf]\n",
    "#mydf_r\n"
   ]
  },
  {
   "cell_type": "code",
   "execution_count": 50,
   "metadata": {},
   "outputs": [
    {
     "data": {
      "text/plain": [
       "Name      0\n",
       "Review    0\n",
       "Target    0\n",
       "Time      0\n",
       "dtype: int64"
      ]
     },
     "execution_count": 50,
     "metadata": {},
     "output_type": "execute_result"
    }
   ],
   "source": [
    "import nltk\n",
    "from nltk.corpus import stopwords\n",
    "\n",
    "#\n",
    "mydf_r.isnull().sum()"
   ]
  },
  {
   "cell_type": "code",
   "execution_count": 55,
   "metadata": {},
   "outputs": [
    {
     "data": {
      "text/plain": [
       "['Am first time user and never plan to use this app for 3 reasons 1. I typed in a lengthy review and now it has vanished 2. You have to wait for more than 10 mins for the damn captain to accept ur request. then another 10 mins for the bike to reach u where as there are so many other bikes near u but nFull Review',\n",
       " '3 * for your map. Have to enter address and learn how to use Pin to drag and drop location. You might as well start the game called \"Find loc for Rapido\". Please ensure all your captains carry spare helmet for pillion riders. Otherwise, it\\'s great.',\n",
       " \"After new update, also still has the same problem. Serious bug, when we out from the app, it goes pip mode (picture in picture). That's fine, but it is not coming again to full screen. It only comes to full again when close the pip mode and open again the app. It's frustrating.\",\n",
       " 'Cons: 1) Maximum time I have received faulty helmets. Either the lock is broken or the helmet is not of appropriate size to wear. 2) I have travelled in scootys/bikes whose leg rests are broken and I had to manage the ride by hanging my legs. 3) Sometimes the vehicles come with no looking glasses anFull Review',\n",
       " \"Great option to beat traffic. Most of the Rapido captains speak multiple languages which makes it easier to converse and give directions if needed. App is simple and easy to use. Only downside is most captains don't carry a pillion rider helmet.\",\n",
       " \"Increasing the amount day by day. I don't know why. And one more thing showing the too much amount than auto services.. literally from past few days I'm using auto services instead of rapido due to high fares.. totally disappointed...\",\n",
       " \"It's the best app, ever tried with best driver. But I think fare is a little bit higher than others.\",\n",
       " 'Great and very helpfull app...price is good......overall amazing ....will be using from now onwards...',\n",
       " \"I've been using Rapido since August 2019 for daily office commute. It's cost effective and good for commuting through city traffic. I rely a lot on it. The passes and offers make it cost efficient too But once in a while the app creates blunders. In past 4-5 months of use, I've faced login issue, biFull Review\",\n",
       " \"It's a good service provider but it does have lot of issues till now.... 1. Will show nearby ride but actually it will allocates you the longest one. 2. Most of the time rider so called captain will deny the ride. 3. Shows 4-5 minutes but it will take 20-30 minutes.. 4. NO HELMET!\",\n",
       " 'The app is not functioning at all from last couple of months.',\n",
       " \"This app is amazingly awesome but today I'm facing a lot of issue, it takes weird time for booking, then not canceling, after booking it's not showing how far is the captain, just showing captain on the way, no navigation no time, I tried to contact captain, not reached, needs new bugfixing!!!!!!!\",\n",
       " \"Very useful app especially for the people where the cab services doesn't reach, like congested areas. Also affordable if single person is travelling. However, some negative points also there like many captains/riders only travels if you book the ride through case mode option, may be there is failureFull Review\",\n",
       " \"It is really helpful for only like urgent purposes because of the price and you can use it if you are really in need for it and they send notifications like offers but if you open it it won't even show you one offer even if you type the coupon it will be like The coupon you used is expired or somethFull Review\",\n",
       " \"It simply doesn't work.it doesn't do anything after choosing destination.it justs keeps on loading for several minutes but does nothing.even done installing and reinstalling.i think this app has problem for all the users of the mobile letv leeco le2. You replied me that you have fixed the issue. ButFull Review\",\n",
       " \"Tough to select place where you want to reach as major places don't reflect & you are asked to select destination location from map. In case person is new to area, he will fail to select location on map. Like I visited Patna last month and faced difficulties to select destination location on map. ChFull Review\",\n",
       " 'How on earth is it possible that there no customer support number? The rapido service is so tremendously unreliable. 1stly the pictures of the captain and the number plate on the app doesnot match with the people coming in person. 2ndly the location of the captain doesnt match with that shown in theFull Review',\n",
       " \"Good application, feels safe for girls too ... The drivers are polite and sensior. It doesn't share your number with the drivers is also a good and safe feature 😄 i use it daily to reach the office overall very good and time saving\",\n",
       " \"It was awesome enjoyed the ride.My rider was kind and polite and courteous. The fare was rather high though. I'm glad I found this app. It was smoothe and fast, just hated wearing the helmet. Hope we get a.c helmets now that summer is around the corner.lol\",\n",
       " 'Great app for single and frequent travel. For safe and controlled drive anytime anywhere',\n",
       " 'Real great app Some time captain use to cancel the booking when we are in need of that Btw good and appreciate and recommend',\n",
       " 'Well \"the captain\\'s\" can apprently cancel the rides without ur concent. Ofcourse i would have cancelled it myself if they would just ask me, instead they lie to your face and make u wait for a ride that\\'s never gonna arrive. I have encountered good \"captain\\'s\" in Rapido but the bad ones are the firsFull Review',\n",
       " \"Worst app.. wanted to book a ride, not getting connected to a whatsoever called captain..keep waiting..it doesn't work..clear data of the app.. doesn't work.. reinstalled the app.. doesn't work.. even tried to reschedule the ride via cancelling ride.. doesn't work.. one of other user who was stood bFull Review\",\n",
       " 'I have done many rides in rapido. My last ride actual amount is 8 RS . I have used my rapido wallet. End of my ride the caption app shows some error. After the one hour my rapido wallet amount 50 is charged. Worst app . And then i checked my rides it shows last ride cost is 50 rs .I ride only 2 km. Full Review',\n",
       " \"Prices are really good and they have nice discounts coupons too most of the time but most of the time captains are not available like 8 out of 10 times, power pass doesn't works the way it should and the customer support doesn't understand this when talked about, the otp is always same for me like tFull Review\",\n",
       " 'Pathetic app most of the times app shows unable to reach servers. Cant use my wallet along with cash. If wallet balance is low i cant use wallet at all. All rivals offer wallet payment and balance amount in cash but rapido doesnt. Also so much errors in pick-up locations. And worst of all it shows cFull Review',\n",
       " \"Yesterday was my first ride with rapido. The captain was good. But I really didnt understand your payment option. I recharged rapido wallet and chose wallet for payment but upon reahing to destination it's showing cash payment. Even I checked with my friends they also said that most of the time amouFull Review\",\n",
       " 'Pathetic app and service ...you are increasing fare day by day. you pass doesnt seems to be useful just tell me who will purchase your useless costly pass. and on every alternate day you deploy a update ....what the hell .. somtimes your app gives and exception error somtimes you app failed to conneFull Review',\n",
       " \"There is no concern in App and its working fine and user friendly.My concern is about the Bike you are approving for ride and lack of bringing helmets for riders and sometimes Rapido Captain also not having/wearing at a times.Out of my 10 rides,only 2 Captains provided me the helmet and rest doesn'tFull Review\",\n",
       " 'Good App for Small travel. Drivers are still using mobile phones while driving with customers.',\n",
       " 'Not got captain when needed and very high prices as well, very dissatisfied and disappointed 😞 😞, captains are very lazy never available in morning, refuses a ride with online payment. Got a coupon and not able to use that, it is invalid, what is the problem with this app. Disgusting app I am veryFull Review',\n",
       " \"I've used this app for 2 rides now but the captains always ask for more money than its shown in the app. I've told them its against their policy but they accept the ride only when you pay more. And moreover they ask how much money it's showing in the app. The amount is not shown to them bcz of app pFull Review\",\n",
       " 'Ohh my God, this app is just awesome. Its really really cheaper for single person travelling. If you are wondering alone in the city, this app is a boon for you. Even Captains are much much better than the khaddus rikshowvalas. Ask your friend to refer you for the app, you will get lovely free ridesFull Review',\n",
       " \"Service is good before you take a pass or put money in the rapido wallet! After that they give ₹4 discount, the coupon codes that are in everyone else's phone are not available to me, the captains cancell the ride after calling and asking to wait that too after 20 mins of waiting for them!\",\n",
       " \"Last night I booked rapido to go back to my home and had entered correct address since I use it very often so the address HAD TO BE CORRECT but somehow on my captain's phone the address was completely wrong and quiet far and I had to rebook it and pay more than double price than what it usually is. Full Review\",\n",
       " \"I must say it's an excellent app. The only thing that bothers me and i want you to do it for God sake is PLEASE PROVIDE CAPTAINS WITH THE UNIFORM.... So that people around don't think the captain to be someone else....as a female customer i really want you to look into this issue as it has already bFull Review\",\n",
       " 'I am a regular user of Rapido.I use it everyday for the same commute.Now a days am facing issues with the fare displayed while booking and the fare after dropping .The fare displayed after the ride is more than double the amount displayed while booking.I have raised a ticket in help section but of nFull Review',\n",
       " 'Pls implement quality checks to see how your so called captains are driving. They dont have side mirrors, we arent provided with helmets. They just zip zap zoom as if they are on a leisurely trip. Out of 3-4 rides taken via rapido, i was already scared of getting crashed through PS - Just received aFull Review',\n",
       " 'There is huge disadvantage for user to be scammed easily. Why? Here is an example. You have booked your location. Captain texting you to cancel the trip telling no fuel. User tells thats your problem, you cancel. Then captain tells you to share OTP by fake updating in his app that he has reached locFull Review',\n",
       " 'The app has too many bugs. It shows random fare. Inspite of applying power pass, the actual fare is increased and the discounted fare is almost same as original price without pass. If you cancel any ride for a reason of shorter wait time, it will allocate you farther bike on the next. And so on...',\n",
       " \"I travelled only for 11kms and I have been charged amount for travelling 30kms. I have no other option given by the driver and I had to pay the amount. Later I raised many tickets about the issue but they are not yet solved, but they closed the tickets without solving them. It's been 20days till nowFull Review\",\n",
       " \"Bad user experience leads to worse adoption. Rapido, I'm uninstalling your app for now since i can't use it literally. Problem area: can't type in the destination, not able to get the destination using the map also. Always says 'Invalid'. And, no, I'm not living in midst of a desert or a zombie quarFull Review\",\n",
       " 'Very bad. Captions are rejected ride for long distance.',\n",
       " 'Application started crashing after booking. Pls fix the problem.',\n",
       " \"My recent ride (Dt 13.3.2020,Time morning 08.20 AM Ride is from dwaraka mor to udyogvihar phase 3 fare 149)experience was totally bed because the rider came with Tvs sports bike that was totally unconditional the rear wheel is totally shaking every turning it's shaking twise the bike is falled it's Full Review\",\n",
       " 'No vehicles always saying please try again and not getting anything very worst experience all my time was waste',\n",
       " 'Hi Team, I am a regular user of rapido and recently i was being charges 10Rs extra on few rides saying its been charged from the previous ride. This started happening since i had to cancel a ride because of your app issue. It showed captains are available 3 minutes away and your captain was not respFull Review',\n",
       " \"It's different than other apps, easy to use and book. Drivers are also down to earth. Only problem is 1 out of 5 times drivers accept the booking and then ask you where you wanna go and cancel the ride then if its doesn't suit them. But then that happens with Ola and Uber more than it happens here. Full Review\",\n",
       " 'The app has gone bonkers since a the past week! It takes ages to book and cancels immediately. If i want to cancel the eternal search for a captain, it is not able to cancel. The payment is not getting updated. All in all Radio has become terrible!! Terrible!!!',\n",
       " 'An innovative and most welcoming ideological ride factor... Only one thing ... otp to start ride is good but at the same time for the completion of ride otp should be there as with my another account rapido captain drops much before their destination.. which is not good. For such thing ride completiFull Review',\n",
       " \"Everytime it says. All captains buzy....... Then offers page won't open, it ll keep on circling.... I'm a frequent user but at times it dissapoints me to the core when I actually need it. Upside to it is that it has helped me many a times in situations. So kudos\",\n",
       " \"Nice and cheap! But Sometimes the rapido captains tell only to pay in cash although both the options are available to the customer... sometimes it becomes a problem when we already add the money to the wallet and may be short of cash!....please try to resolve this problem... Otherwise all over it's Full Review\",\n",
       " \"I couldn't find a ride at morning when i needes it urgently. The app kept saying Something went wrong. Please try again later. You can't trust it because i tried from 3 different devices and yet it was same.\",\n",
       " 'The app is good, responsive and useful but it will not be helpful for users because of the bike drivers. All the captain drivers asks for destination immediately after booking made and also demand cash instead of online wallet money. Some of them refused to go and forced customers to cancel trip. RaFull Review',\n",
       " \"Hello guys you need to work on your app. We can't connect to captains sometimes. Sometimes captain has other issues from his app. It also shows there are n no.of captains around us and no one responses... and these days I'm continuously getting late for office i can't even try other apps because I'mFull Review\",\n",
       " \"It's a very very bad idea to forcefully ask for a phone permission and that too without giving any information to user. Either give valid reason why your app can't work without the perticular permission and then navigate user with consent. And if your app can work without the perticular permission aFull Review\",\n",
       " 'Pros: Best app for single traveller Bike is best in city traffic Cost is less than 3/4 wheeler taxi Most of the riders/driver drive safely Cons: You have to book 15-20 min before as the coming rider/driver may be far away but most of the time you will get the ride in less than 15 min Some times currFull Review',\n",
       " \"What kind of production app has [SERVER ERROR] [ SOCKET ERROR] in the app for a long time. It's from beginning i'm seeing the above sever error in Paytm money load. Whenever I try to load my Rapido wallet through PayTm then this error comes. What kind of developers are you. When you can't fix a visiFull Review\",\n",
       " 'You should work on you maps... They are never accurate or not even close to accurate.. 1. Even after the driver arrived it still shows driver is somewhere far away. 2. Before booking the ride it shows 2mins away.. After booking it shows 15mins. 3. Initially if is showing 10 mins after 10mins it willFull Review',\n",
       " \"It's extremely difficult to Look back my rides of past month to calculate expence, Bcoz in My Rides options, Instead of showing 12 days ago, 2 days ago, It would be easier, of U show the date directly, And the number of contents per load should be increased as it is irritating, when it loads step byFull Review\",\n",
       " \"Application has some flaws some times it takes drop location as pickup location, Mainly when a captain cancels a ride and other one picks the ride details are getting messed up. I'm using motorola one power with updated Android one OS. Please take care of this. Also captains are preferring short ridFull Review\",\n",
       " 'The app built in a worst possible way. I was using the app over months. Though my GPS was in correct possible, sometimes i get connected to a distant rider and then to cancel it, I am charged. Nice way to loot our money. I am uninstalling it.',\n",
       " 'The app is easy in use. I get frequent rides in Delhi and the best thing at proper & affordable rates.',\n",
       " 'Nice application to book a ride for individual when you need it really urgent.',\n",
       " 'I made the complaint that app is showing google map error initially ...u r not fixin g it before update tge app was gud...why did u update for troubling users...',\n",
       " 'Update your softwear pickup location always wrong showing and pin password why you should not change every time.',\n",
       " \"Update: without giving the rating i cannot book next ride and while giving the rating it shows internal server error, app backend is crappy, very unreliable, service is good, app is not stable. doesn't work half of the time ( os version 8.0.0, device lg g6 )\",\n",
       " 'The app is just not accepting the coupon code that I had received as push notifications just a few minutes ago... Not able to understand why is it so... The customer care team is not even providing any amiable solution... Moreover, I am not able to see the Terms and conditions of the coupon codes thFull Review',\n",
       " \"I use rapido daily for commute to and from my office. But from the last update the app is too buggy. From last two days I couldn't book any ride while coming back from office. I couldn't use any promocode also though I have received notification of promocode. Please fix all the bugs so that I can coFull Review\",\n",
       " \"I don't know what policies u guys are using for the drivers....i tried to book a ride....and each and every time the driver denied duty and there is no option in the app to report such type of cases....i contacted 8 of your captains and everytime got the same answer.... Please look into these type oFull Review\",\n",
       " \"All is well and it's a very handy App for urgent rides except the following. 1.It crashes quite frequently. 2. You can't change your phone number. 3. You can't book for someone else like we can do with Ola Cabs. 4. Can't pre book a ride for a particular scheduled time.\",\n",
       " \"Updated Review 2: There is a glitch in the app. When I try to book rapido in a different city rather than my current location, it doesn't appear search results for pickup and drop points. Many people have to book ride for their friends or family in different city. Please fix this issue.\",\n",
       " \"The app is very good and the power passes that they offer are awesome, there is just one problem, none of the captain's accept online payment. Their concern is always that rapido pays them that amount only after a certain amount is reached like 500 ₹. Due to this no captain's accept online payment aFull Review\",\n",
       " 'Kindly update your app, today itself i rode 2 times and both the drivers were unable to come up my location and both times i had to walk a small distance, when the driver is trying to start the ride it is not accepting and asking the driver to go to the location. One ride i had to walk some distanceFull Review',\n",
       " 'I am not happy the way rapido team handle any request, its been more than 2 months and my issue is still not fixed. They keep telling on mail issue is fixed which is not. Highly unsatisfied and have to uninstall the app. Now i already sent mail to shoutout@rapido. Bike This had to be fixed soon',\n",
       " 'team, This is to inform you that most of the time I have seen when I book rapido that gets assigned but a captain who is far away from me not to that captain standing within 100 meters from me. So look in to the assignment logic and please update that. It will not only resolve the captain long traveFull Review',\n",
       " 'I would like to suggest tge development team to give some notifications when you have a force update. You guys are releasing frequent updates and we customer cannot frequently check for them. And when you are giving an update the older version app crashes which is not a good developement practice. AFull Review',\n",
       " 'Rapido bile serVice is good but the 3 star are for app ... The app is not shoing exact location of the driver ... Many time drivers come to location but on app its showing that driver not yet started ... The location of driver not showing properly ... Please work on it .. I am regular user of RapidoFull Review',\n",
       " 'Good service but please start training the captain to follow the map as most passengers are not aware of the city roads. I have been traveling regularly on your bikes but most of the time the captain asked me to take out my mobile and give him the direction.',\n",
       " 'Couldnt accept drop location and after selecting the location ,it will take forever to chhose it as drop point',\n",
       " \"Amazing app. But the only thing I don't like much is live tracking, tracking is not good. Hope that rapodo team will fix it very soon.\",\n",
       " \"Nice application, nice grip and good response time from drivers, as a customer, it's good But these days, power pass is a bit costlier, with high number of users maintenance gets high.. so yeah it's no big a deal\",\n",
       " 'Too much painful after booking rapido, each rider ask the payment mode. When we say by wallet or any electronic media. They cancle the ride quickly. As compare to rapido the uber is much better in wallet payments. Many time i pay double payment for my ride as wallet + cash demand by rider. Very poorFull Review',\n",
       " 'Have been facing issue since a log time. The thing just says \"waiting for captain to accept \" and it just keeps like that and no captain accepts. And even if I try to cancel it says it cannot cancel. Either give a ride or just let me cancel. Both ain\\'t happening.',\n",
       " \"This app has cost me delay at work countless times at on top of that the feature where the rider cant cancel the ride & the app either charges you extra money or forces you to book another ride is such a scam! I could just use OLA and UBER w/o having the stress of worrying about my ride if you're juFull Review\",\n",
       " 'Was an Excellent App but now Worst...It cost now double money than earlier price.. I foget to say, your wallet scheme is to bad there is no option to add money itself i have to take a ride and add acc. To it ..this app. Is reallly disappointing 👎👎👎👎',\n",
       " 'The worst experience ever with rapido , although the mode of payment was online the captain forced me to pay extra fare in offline mode and I have to pay this amount otherwise the captain threatened me to drop me back from where I have started my journey, really never expected such kind of service fFull Review',\n",
       " \"Pathetic app. Cannot use for emergency. App gets hang when fetching destination location. Doesn't work when saving home address or anyother address for that matter. Really disappoined, useless, wasted so much of my time. Please don't use it because time is more precious than money these days.\",\n",
       " 'Pathetic Service. Each time caption ask for destination and cancel the trip. Never gonna use this app again.',\n",
       " 'Very smooth and comfortable experience.. !! Good for intracity travel',\n",
       " \"The captain's are cancelling order only for payment mode because they always want cash only i am very disappointing with this kind of behaviour I think manager should look at this issue\",\n",
       " \"Most costly and not a handy app and poor service if we use the rapido wallte then there's some of your driver refuse to take the ride also if there some blance money u wallet didn't refund it.thrn it's a wroste system why we didn't get our balance money ??also there another problem is minimum transaFull Review\",\n",
       " \"I am a pretty regular user of rapido but with its new updates it's complexity increasing, order taking time has increased, it's no more easy to use one, while rapidos are vaialable near you it's still suggesting rider who is 2 km away. If same thing continues have to switch to Uber Or Ola service.\",\n",
       " 'Rapido has never left me in all seasons and all time. Hence, I have decided to not to leave captains alone in this tough time👍 I have donated and if needed, will further donate in captains relief fund! My only request to officials is to make sure that these funds should be used exactly as it has inFull Review',\n",
       " 'Very poor navigation from drivers, poor map updates. coupon codes will not be released if rides are cancelled. and cancellation will happen for sure many times because of captains poor navigation skill. such a pathetic experience Edit: concept is good but app lacks maturity. no proper live updates aFull Review',\n",
       " 'From 20th Jan it is getting struck and when I try to open it is not responding and it is showing like force close everytime.Try to resolve this issue as early as possible..Before that it is working quite well.It is happening frequently after the update.',\n",
       " 'Application is stuck at \"Waiting for captain to accept\". Unable to cancel request. Tried reopening app, restarting device, disable enable data connection/gps service, clear data nothing works. I am not the latest version of the app.',\n",
       " \"Their payment gateway is worst i was in hurry so i recharge my wallet but amount deducted from my wallet but not updated in app. This is the way u provide service. It's not happening onle one day since i am using this app problem happens everyday. Don't you have customer care number.. And developer Full Review\",\n",
       " 'Although ur app came as a breath of fresh air for me..it is turning out to be nightmare for me presently..the rapido captains on booking call me up and ask my destination and refuse to go..during times of emergency they keep on cancelling and becomes very frustrating when i have to reach somewhr urgFull Review',\n",
       " 'Concept is good. But the bikers do not accept request even if they are in the same area. Waiting time is very high. Need lots of improvement. Many of the times the bikers are not aware of address and asked me for navigation instead of using Maps.',\n",
       " 'Oftenly app is not working for some time. It will continuously shows waiting for captain to accept, instead it can show no captains available now. Even though we restart the app, issue persists still. Faced this issue lot of times.',\n",
       " 'They are always cheating Captains, when we are near to achieve Incentive they will stop providing Rides because to cheat, always doing this and Ride time calculations also wrong',\n",
       " \"one off the worst service cheting off money don't do this job..... very very cheting Froud company.. 2 to 3 months this service will be close\",\n",
       " \"Very pathetic service to Captains, unnecessarily deducting fines from Captains, charging Extra from customer and paying less to Captains. recently I redeemed my balance on 19 oct but still it's not credited, more than 48 hrs crossed. 9776050593 also I can see there are more Captains than customer so this is pathetic n also I believe they don't provide referal bonuses to Captains. stop this idiotic services\",\n",
       " 'Customer base is very low. Need more marketing and promotion',\n",
       " \"bad captian care service and no efficiency callers available and they don't knw about their own products and services wat ever we ask they say we donno\",\n",
       " 'No customer care, no help line. None n very bad service n low cost for the struggle',\n",
       " \"Dear all, very very bad customer service @rapido officeHSR. they  behavior is like Gunda Roddy's.  there is no respct for anyone. like a K R market\",\n",
       " \"I worked as driver in rapido captain had a very bad experience customer used to call me to bring cigratte n tea . Some time when I reach  point for pick up after waiting for 20 minutes customer  used to cancel ride. Sometime call at pickup point n do jokes on call n cancel ride  it's all because Rapido is not charging cancellation fee from customer .Rapido will give pick up point more than 4km after reaching 4km customer cancel ride. No ,profit for driver earning less. driver fuel wastage.\",\n",
       " \"the incentives time and task is very low its impossible because we don't get back to back orders and what commission you take its from our work hard we think rap I do was good then ola now I like to move ola when please don't make fool peoples 10 km u pay only 74 how can u give so less\",\n",
       " 'best part time income for employees and students',\n",
       " 'Please sont join Rapido Captain. No Rides no income. Gave a complaint regarding not getting rides, called to the cx and got abusive returns. A guy from backend team called and stated if you are in demand location you will get rides. No solution from rapido',\n",
       " 'what good app thanks rapido',\n",
       " 'its a use less app. And most funny app, allways network issue',\n",
       " 'return in low, customers call service very poor',\n",
       " 'total nonsense  service  more then ten driver deny to pickup me from booking location and demand for 300 Rs for drop destination  As bike ride booked 50 Rs only Logix Mall Noida to Trilokpuri Block 5 Delhi booking time 10:30PM and i am still wating 00:04',\n",
       " 'waste of time no as per  spand time in it.',\n",
       " 'order not continuely 1hr 1order only',\n",
       " 'I am doing past 1 year but there is no improvement from your call center side, every time busy mode past 3 days iam trying to call because of lack of no orders but there is no response please provide us better to do with you thank you',\n",
       " 'I very hate this company, please do not enter rapido captain job, u never earn any single rupees of money , guaranteed u lose ur money and time .',\n",
       " \"waste app in our society worest job in our society.. we did not reach our target they will do some codeing on our account... why because, when we are reaching our target they didn't give any rides on that time.. waste app.. don't waste your time.. Guys don't support this app\",\n",
       " 'i was speaking with your customer care he has deactivated my account on the ongoing call i am so fadup with you people no. is 8178362205',\n",
       " 'I am recommended rapido captain',\n",
       " \"it's super for job holders extra income\",\n",
       " 'good for money how want make extra money just join them',\n",
       " \"Am having problem in my Rapido caption app am unable to login as it is showing it is all ready used by another user and I visited to office located in madhapur Hyderabad but also no use and I have sent lot of mails everytime I get the same reply as problem is solved but till now am facing the same problem.  so it's waste of time and waste service providing by you for captions.\",\n",
       " 'Faster and Cheaper than Uber and Ola 👍',\n",
       " 'Rapido bike is illegal here in Kolkata.',\n",
       " \"don't do the rapido ride from today onwards because traffic polices are cease  all the rapido ride attached bikes.\",\n",
       " \"my profile verification still pending and no response from your side. it's about 1 month to go and my profile is still pending for verification. 😠\",\n",
       " 'good for self and everyone for family',\n",
       " 'very bad no rides In Jodhpur i am in lost',\n",
       " 'Anybody need join as Rapido Captain in Bangalore, contact me I will help you and it is best earning app',\n",
       " 'i m unable to access my account....it is give that i have wait for 24 hrs but now 2 day had past....since now mssg aur access i have recieved',\n",
       " 'Hi Hello Everyone If Anybody Want to join Rapido Captain in Bangalore Message in inbox I will help about to join .it is good earing job in Bangalore payments getting 100% to captains, instant payments when customers pay cash or if customers pay Online you can redem twice in week,Join With my Referral Code R9XL0EZ and you can get some benefits from my side',\n",
       " 'Join rapido and earn at your will.Here is my referral code CN0E3PJ Download the app at https://rapidocaptain.page.link/xv7Z8X3QTAvywyLi8',\n",
       " 'bcoz they just making fools to captans',\n",
       " 'I m also a Rapido Captain I ride my Bajaj Avenger and earn money from this App',\n",
       " \"fraud bike taxi guy's bpls don't work with this\",\n",
       " 'Froad company they mark fake panelity to bike riders',\n",
       " 'Rash driving and hit run  All L-Board drivers don’t know how to drive',\n",
       " 'sir 2 days before I log in Rapido caption app and all process completed but still now Rapido not activate pls need ur solution',\n",
       " \"iam rapido captain my account  is deactivated  don't us rapido captain this is a very bad aap who is my account deactivated\",\n",
       " 'I am upload document & photo last 7days ago, but still show after 24 hours ac open. still not open, many time mail & msg but now still not open...',\n",
       " 'I am a Rapido Captain, I like this job.',\n",
       " 'How long does the son stay, does not get any ride',\n",
       " 'not verifie app.',\n",
       " 'I am working in rapido it is gud for all',\n",
       " 'Hello Need IOS App for Rapido Cap. Are u working on it ? When it’ll be launched.',\n",
       " 'Provide the Rapido captain for IOS',\n",
       " \"I am in visakhapatnam   I'm in Interested   my phone number:8341060106\",\n",
       " 'iam jop rapido captain sir pls call sir',\n",
       " 'Hi sir my no. is 9654478085 my payment is hold pr h plz help ise jaldi clear kraa dijiye',\n",
       " \"hlo where's office at patiala city\",\n",
       " '9632137656 call me Kannada language',\n",
       " 'plash... call MI 7778965301',\n",
       " 'earn more and save time and usefull',\n",
       " 'I m join rapid bike taxi plz call me or number send me',\n",
       " 'hii  rapido to acction welcone',\n",
       " 'ek dam bekar he ye, Rapido riders ke bare me kuch nahi sochati ise kuch jyada eraning bhi nahi he customer care vale replay bhi thik se nahi dete sunday ko incentive bhi nahi deti yani sunday ko mufat me kaam karo',\n",
       " 'fraud app...redeem karneke baad paisa bank transfer nahi hota...sab paisa rapido hazam kar gayi...',\n",
       " 'The app and the Captain (driver) will cheat you by following steps : 1. The app shows the fare to your destination without notifying you that the fare would increase by distance and time taken to complete the ride. 2. The captain would insist that they know a better way to the destination, but they Full Review',\n",
       " \"It's an app with a good heart and a good motive. But has miles to go in catching up to the smooth experience we are used to using Uber and Ola. The drivers are really really BAD. They will ask for your payment mode, and more often or not, they will tell you to cancel. Same is the result if they don'Full Review\",\n",
       " 'I used rapido and want to use but in an accident every accident is not fracture or death if a passenger rider gose with the Rapio captain. In one of the case I met with an accident and it was wrong turn taken by the captain. I had to go for Opd submitted all the bills to your acko insurance. They arFull Review',\n",
       " 'This app is a lot buggy. - You will get coupons notification, but those coupons will not work - Their power pass coupon is just awesome, before purchasing power pass, fare were reasonable and at the time when you purchase their power pass, the prices get shoot up and you will charge more than usual Full Review',\n",
       " \"12 march 2020 I updated my app booking is not taking I'm using android 7 and keep saying something went wrong while picking up destination location from google search. I clear cache Re downloaded 5th time then I thought may be problem in new search algorithm. I'm a customer of RAPIDO since 2017 ND nFull Review\",\n",
       " \"Let me repeat once again... this is the worst app... To hide it's failure, Developer is saying to clear the cache.... I install this app on a brand new phone still the problem remains the same... Worst app... After exiting the app while on ride, if you try to open it again for any purpose, it will sFull Review\",\n",
       " \"After the new update, the bug fixes have been put out. But the app isn't opening in my device , POCO F1. Please fix this problem and get back to me as soon as possible. I'm a student and I need to use this app regularly but because of this new update, the app isn't opening and keeps crashing.\",\n",
       " 'Whenever I book a ride it never show\\'s the fare & if i ride without seeing the fare then after reaching the destination it is always 150rs+ even for not so long distance. Hence, \"Whoever created the app is such a dumbass guy and definitely a stupid person.\" The developer of the application gotta leaFull Review',\n",
       " 'I am continuously getting a Google maps error while trying to open the Rapido app. Earlier I used to book. Please let me know how to proceed. I have uninstalled and reinstalled the app too. Thanks.',\n",
       " \"At the beginning I love this app and I kept 5 star and they came up with buy pass and even if I applied it is showing the same rate as uber (2 to 3rs difference). Don't use this app they are trying to steal our money as much as possible with new offers\",\n",
       " 'Everything was working fine but after recent update app is not opening as it says google maps error. Using rapido from two years and taken more than 700 rides.I have cleared cache and sent mail also .But still it is opening. Please take seriously and attend immediately.',\n",
       " \"Worst app, if you want to book a single ride , believe me it will take more than 1 month and also ride will not get confirmed. App is not able to search even a location and falling with the error something went wrong 😂😂😑 I'm not sure developer must be a high school graduate.\",\n",
       " \"When I book a Rapido bike, I see the rate low. As soon as the captain drops me, the rate automatically gets higher, this has happened to me 15th times today, i want to know why this happens everyday. Only 3 km i paid 36 rupees when i booked i saw 18 rupees ? I haven't got any ride helmets for safetyFull Review\",\n",
       " 'This is so cheap . U can download it. Rides are available in about 3min. So u can easily go anywhere without any delay and also u can apply discount code which gives 50 percent discount. At last it is good app.',\n",
       " \"Very poor service at Ranchi, Jharkhand. None of the riders have any clue about any of the addresses neither the GPS works good. Every time I have to guide them over phone to my address. They don't even know the prime addresses of Ranchi. Plus their charges are extremely variable, for the same ride IFull Review\",\n",
       " 'Reasonable price. Sometimes the coupon section does not work and keeps loading, and also sometimes it will pick wrong location when u open the app, maybe its a bug. But overall the app is great.',\n",
       " 'Its a great service with minimal charges..if u r alone and want to commute its the best ride option. The only thing which can be improved is contact with driver every time 1st we have to enter our mobile no than one can contact to driver this should be more lucid.',\n",
       " \"Why are location services failing every time I give my pick up location it will add it's own location which is like 2 km from where I am. It has happened two or three times please fix this why can't it update location from Google like how whatsapp does\",\n",
       " \"Whenever I travel back from office, the app doesn't work. It shows some problem while booking a ride. It seriously needs some improvement. Kindly acknowledge my request..\",\n",
       " \"This app using visually impaired people also. They will use Android accessibility sweet to book rapido. Make this app more accessable with Android accessibility sweet. Now they can't give rating, they can't find OTP, they can't cancil the ride also. Please solve these issues.\",\n",
       " \"Worst experience so far. Downloaded for the first time when I booked a captain I had to wait for more than Expected time. And on the map i was seeing the rider was roaming around me but wasn't coming. Very much Disappointed with the Service.\",\n",
       " \"Excellent app, plenty of rider's. With in 5 minutes we can start our ride. Fares little high than uber but Rapido provide coupons and passes, if we use same property we can ride in low fare with shorter waiting time while booking. Overall excellent app. *****.\",\n",
       " 'THE BEST MODE FOR TRANSPORTATION Fairly priced and reliable in the time of need. Helped me reach the airport when ola and uber (looters)drivers were charging ×3 the price showed on the app during curfew. The experience was so good. Thank you Rapido✨✨✨',\n",
       " 'Very poor experience while i install first time to use this app. It shows service not available on this route, while i put main jamshedpur route station to golmuri. Worse experience, better to catch auto instead of rapido...👎',\n",
       " 'The estimated time for captain to reach keeps changing, such as it initially showed 3 mins away and then got refreshed to 11! Then, after a wait for 10 mins (during which the captain was only going farther away and did not accept any of the calls made), suddenly the bike number changed and thus starFull Review',\n",
       " 'GPS is way off during the ride. Also, manual start ride option should be provided as it asks to goto the GPS circle to start the ride. Otherwise great app.',\n",
       " 'Everything is fine. But some of captions are asking whether the payment method is cash or online. If it cash only they pick the ride otherwise they ignore it.',\n",
       " 'Updated review: captain arrives without helmet, and then when i mention that i am pating online he cancels the trip and deserts me..it has happened back to back to me now.. i need now complete refund from my rapido wallet now. Captain doesnt pick the call and he doesnt arrive at your destination..weFull Review',\n",
       " \"Picking destination address is not good at all you need improve may things. It sometime says 'something went wrong' while selecting address by search then app crashes\",\n",
       " \"App asking mobile number, i put. Written : We are verifying you, something went wrong, try again I'm trying again and again, but not working\",\n",
       " 'I am using this app from 2 months but not satisfied. Some captain does not accept our requests and always tells us to cancel ride this was my 20th time the ride which was cancelled by the captain. Please company keep a check',\n",
       " \"The app is a real game changer and life saver but there are some glaring flaws in it. 1. The location/maps doesn't auto match most search inputs. I wonder why not since Ola/Uber do and I presume they use the same Google Maps API. 2. Most riders cancel the ride when they realise that the payment is oFull Review\",\n",
       " \"App is perfect but at dropping location it should have an option to move the pin and not only the 'choose from the map' option.\",\n",
       " 'Worst app. Every time the captain cancels. After getting to know the drop location. Shittiest app. And captains. Utterly frustrated.',\n",
       " \"I am unable to receive captain details and not able to give ratings to captain. facing issues while canceling ride also. This app having some issues 1. It's not calculating fare with actual drop locations. It's calculating as per whatever we are mentioning at the time of booking. 2. If we are changiFull Review\",\n",
       " 'Location update is a major issue unlike other ride providers. Google Map is also not well connected in this app.',\n",
       " 'App is good the only problem is when I select my pin the app shows \"please select a valid address\" so I can\\'t use this app so please fix this',\n",
       " 'It is good when you apply any coupon, it become almost 2/3 of other bike service providers , but without coupon it is costlier. You can get its coupon on Google.',\n",
       " 'Wallet balance need to be transferred own bank account i.e. Rapido wallet balance amount to bank ac . This fund transfer facility not available.',\n",
       " \"Although a good app, but sometimes captains keeps rejecting because they don't want rides of long distance. Many captains use very bad quality helmets, some don't even bring the helmet, some make deal with us to go with them without using rapido so rapido doesn't get their share. Also no benefits arFull Review\",\n",
       " 'App is not opening from last update . It shows google map error . i had used it before 4-5 rides. Had wallet 51₹',\n",
       " \"Worst application. Not only mine but few of my friends are also facing issue with it. Whenever try to open this application it doesnt open and keep the below bar loading at a time. And always a window of update keeps popping up in the screen. I doesn't understand why the developers cant update and fFull Review\",\n",
       " 'Been using it past 6 months - Best prices as compared to other apps - Best Auto Offers applied - and very decent drivers. Even for change Auto Pay feature is awesome.',\n",
       " 'I am trying to register and it is continuously giving me an error that am not allowed to register for this application. Strange',\n",
       " 'Crashing , Maps error. Since update on March 18, to version 4.10.1 Unable to use app.',\n",
       " 'I am feeling very Happy about this App. I strongly recommend my friends and Relatives to use this. Very Helpful for urgent trip. My rating 5/5.',\n",
       " \"First ride was perfect. Loved the interface as well but the tracking of the ride is a little buggy. It shows the wrong location sometimes. I was tracking my dad's ride and although he was near to his destination (in real time) the app's GPS showed he was somewhere in-between. That should be the onlyFull Review\",\n",
       " 'Very help full for single commuters. But gradually the cost is getting increased and almost equallent to ola r uber auto if we choose litle long distance.',\n",
       " 'The app is toooo good...and useful. It saves most of my time. Thank you.. If we get more offers it ll be nice...😋',\n",
       " 'Rates are getting a bit high. Except that, the app is good and nice.',\n",
       " \"Never trust the app. None of the captains accepting the rides if it is close. Everytime when you book, they don't call you back instead when you call them they ask all the journey aand payment details and they are requesting us to cancel the drive since they have other priorities. Frustrated while uFull Review\",\n",
       " 'I had a very bad experience today where captain called me and took my pin over by saying that he is there at location. But when I tried calling him back he kept kn saying that he is on the way. But he used my pin for other ride. I was simply fooled by him. Wasted my money and time.',\n",
       " \"Whenever I try to create my account through Rapido aap.... Always through some errors. This time the error is 'something went work'. How would I fix it\",\n",
       " 'Great app to use for rental bike rides. Easy to book and safe to travel.',\n",
       " \"Was good app earlier, but for last few months, coupon codes don't seem to work. They will show coupons on notification but on applying, no discounts or cashback or sometimes it will show not valid user. If I am not valid user, I should not be shown the coupon codes. I have the latest updated versionFull Review\",\n",
       " \"I am tired of this app now. While recharging the wallet, there is no technical glitches. Only when people try to use the app, they can't. I am trying to contact the captain. Some robot is telling me to enter my mobile no which is registered and when I am putting my details, its telling its invalid. Full Review\",\n",
       " \"It's a good aap tht only Problem is when you want to add money in the RAPIDO WALLET it will add min 50 rs from online othrrr wise if u want to add 20-30 it will not get added only drawback of this app\",\n",
       " 'While the service is very nice, the app on its own is not that great. The location detection is not always accurate. Moreover, everytime there is an update, the app literally stops working untill one updates the app. This becomes really frustrating when you have either just updated the app recently Full Review',\n",
       " \"App keeps closing. It hangs a lot. Recently rather it's one week I'm facing an issue with the time shown. It doesn't show the exact time of the rider. Many a times it automatically books a ride even after i exit from the app. It takes time to open the app. First i thought it might be an issue with tFull Review\",\n",
       " 'What used to be a cheap and efficient mode of transport, is sadly but a mere shadow of its former self. Drivers often outright refuse to ferry me to my destination, and/or ask me for double or triple the displayed fare. I would also like to add that most of my pick up and drop off location were mostFull Review',\n",
       " 'Not working anymore. For last two days, the app is not loading the fare information, neither connecting me with any captain. Just says, \"waiting for captain to accept\". Can\\'t even cancel the order. UPDATE:- The app works fine now. Few suggestions - 1. Improve your location service. Most of the time,Full Review',\n",
       " \"most of the time, there aren't proper helmets - they are either broken or, really big for an average sized head. in that way, the purpose of using the helmets isn't quite met, in the best way possible and, a constant fear of it falling off is there. which is something that should be immediately giveFull Review\",\n",
       " \"One of the best apps ever for transportation. It's really cheap and offers one of the best delay free service. Captains are quite adjusting and cater to the needs of customers. It should spead to more places and should become more popular as of my personal opinion.\",\n",
       " 'Nice experience... Last rode was cancelled automatically... While captain denied to take call twice... Is this feature or loop...',\n",
       " \"Map feature is not good. Location bumps, no satellite view, can't see exact location, some captains are not good in behavior, charge varies in minutes for same locations, not available in rural areas and some of urban areas, automatically cut from Paytm no option for selection, charge is more than oFull Review\",\n",
       " \"Rapido app is good but captains not. Many times when captain ask the dropping location if it's quite far or with any issue. They cancel the trip. Last time when i have use this app i had word with the captain he said be there in the location after that I'm calling that captain and he was not receiviFull Review\",\n",
       " 'Very good app, happy safe journey to customers with are this rapido riders thank 🙏💕you so much Rapido and riders also',\n",
       " 'App has become buggy. When I try to book next ride it ask for \"rate driver\" from previous ride but while responding with a rating it returns \"internal server error\". Thus the rating page do not go away and I am unable to book ride... This seems app is not at all tested well before releasing and haveFull Review',\n",
       " 'Good : gives cost effective mode to travel within the city. Bad : the interface is really slow and occasionally shows drop location in Africa. Also, the minimised mode at times does not respond to touch and restoring it to normal view is a pain. Ugly: 70% Drivers need to be told to ride slow and notFull Review',\n",
       " \"First of all, this rating is for the app and not the service. Rapido's service is awesome. Riders are prompt and polite. However, the app sucks to say the least. I wonder what algorithm they use to book rides. If nearby bikes aren't available don't book one, what's the point in booking a ride which Full Review\",\n",
       " 'I had to cancel my very first booking because the rider was not willing to come after I told him the destination. While booking I mentioned the source and destination. If not willing, why to accept? The same happened on my next booking on the same day. Or is there something wrong with the app, whereFull Review',\n",
       " 'It was one of my \" on the go\" favourite app but in last few rides drivers were like not so professional and arrogant , so I stopped using it .',\n",
       " '80% of captain in patna dont know how to navigate GPS, or they dont check the pick up point or drop point. They need to be trained, always ask how to to come had to explain entire geography And also even after rating , it keeps on asking for rating please fixed this bugs , it sometime irritating',\n",
       " \"There's a problem with my app. I have just reloaded the wallet with money. Then I tried to open the app and book the bike. Since it wasn't showing , I cancelled. But it's not allowing me to cancel. I closed the app, restarted my phone and even force closed it. But they are telling me that I can't boFull Review\",\n",
       " 'At starting it was good and when I started using Rapido 1&half year back fare was only 45 rupees but now for the same distance it charges 110 rupees for me. And after every 2 or 3 week it ask for the update without updating it does not work and if update again fare will also get increased with everyFull Review',\n",
       " 'Are you guys out of funding or what? The app couldn\\'t connect to your servers most of the time, doesn\\'t show prices, and while booking shows unwanted error messages like \"server error\", \"json parsing error\", and when apply coupon the error it shows \"couldn\\'t connect to server\" or \"unserviceable\", thFull Review',\n",
       " 'Unavalability of Rapido after certain time limit. Also, captains responding are mostly at times 2 - 3 Kms away from the pick up points, which makes waiting time longer and irritating. Lastly, and it may not be worth considering, I like to mention that during registration there has been a category ofFull Review',\n",
       " 'Bike taxi is good idea, but the safety is very low. Your captains are driving as per the Google maps, and it is very risky, because they need to view the maps and traffic at a time. And they are driving very fast(may be to complete the targets set by you) which makes them even more vulnerable for acFull Review',\n",
       " 'Overall Great tool for travelling.. But... The drivers keep denying rides(after accepting) .. If its not in their travelling route... Somehow Fix these crappy experience... For few times i had to cancel the drivers for more than 10 times a day itself... Worst day. Please make some new feature to letFull Review',\n",
       " 'Not satisfied with the application facilities.. I cannot update or edit the location by search with name. I literally have to drag the location pin.. Which is so inconvenient. I was charged a fee for not being able to update my pick up location and explain to the captain. Also, the app does not takeFull Review',\n",
       " 'Really helpful,but mapping is little bit difficult,must improve',\n",
       " 'No option to contact helpline while the driver came and started denying the ride and forces to cancell the ride. Please look up for the instant support.',\n",
       " 'Awesome I reached exact arrival location ...thank u rapido team ....good planning....keep implementing this rapido ....and promo codes send me individually at the time customers users are using more rides from rapido ......any how rapido is good and safe ....',\n",
       " 'All n all nice and one of the best app but just not giving the last star bcoz of some captions who denied their duty very oftenly.',\n",
       " \"Since i bought a powerpass, the app shows applied but doesn't reflect in my bill, after one or two refreshes, i does. What kind of experience are you giving to us customers who actually bought a premium from you. Hire some better developers. Also there are many location based issues in the app. PleaFull Review\",\n",
       " 'Your application why does that struck all the time when u come with a version upgrade This has been noticed many times. While i am booking a ride it doesnot even show the fare without showing the fare we cannot book a bike.This is the review i am writing after taking more than 200 trips. Hope you taFull Review',\n",
       " 'I was charged double amount for the ride !!! I linked my app to paytm and took a ride. After the ride, the money got deducted from my paytm, but to the captain it kept showing as \"Paying by cash\". I had to pay double amount for the ride. And after all of this, there isn\\'t even a complaint page whereFull Review',\n",
       " \"First off all the app is working very fast and it's amazing there is no any issue about the app.... But one issue which personally i am facing is that whenever i book a ride in the very next second the captain call us and they ask for the drop location and according to drop location they decide thatFull Review\",\n",
       " \"Worst app , you didn't capable for one star , i installed the app and it continuously loading and loading it doesn't opening same with my friends phone , why can't you fix the bug in your application or software , what if we stuck somewhere and your app start buffering loading and loading , ola is mFull Review\",\n",
       " 'I could not able to link simpl Account in payment section After OTP is submited the process is started again from first.',\n",
       " 'Something happen with the rapido application .. Its.. Give while booking like\"something went wrong\" why this... It happen 3 times in a day.. So.. I choose ola instead of it.. And some issue i also hear from the rapido captain that.. Server shows wrong location.... I hope you will point out this issuFull Review',\n",
       " 'Updating the date of birth is very difficult, and itz showing itz own date ... This is the problem i faced while signing up .....plzzz fix it',\n",
       " \"Gosh...Worst app ever...terribly slow...n team should do something about it...takes ages for the amount to reflect in Link.Had an important meeting today,thought will take rapido... unfortunately money was just not reflecting...had to take an auto ...GPS Don't work properly..doesnt pick up right locFull Review\",\n",
       " \"Your app sucks. Keeps crashing every single day. Ratings can't be submitted for drivers, citing internal error and then a new cannot be booked without it. Why bother keep an app at all if people are trying to use it but your glitches are preventing them from booking a ride every day! Please hire somFull Review\",\n",
       " \"Installed the app, tried booking a bike. It shows it can't find a ride and it doesn't let me cancel the ride either. After 15 mins without my knowledge, the ride gets booked and the captain is 20mins away from my place. Captain speaks in a rude way and I try to cancel the order which again doesn't hFull Review\",\n",
       " \"App is good but drivers are not easy to find even at 10 AM. Even when I recharged INR 49 pass, the fare was almost similar. The driver showed a lesser amount but more was deducted from the account. Kindly work on the discrepancies. Don't charge more when the riders are getting less.\",\n",
       " \"It's a good app and really great at handling transportation. But you have reinstall the app every update otherwise it won't open. Like at all. Please fix this issue. Other problem is after rapido book the driver don't respond. I love using your service but please fix your bugs and services. It's a rFull Review\",\n",
       " 'Good ,i went in the bike ,very good driving and money also less not so more ,it is helpful for everyone ,',\n",
       " \"The major issue is with map, doesn't select right location which creates issues for driver to locate, you can meet driver only within 100 meters. Online payment fails sometimes. Response to Reply: Don't accept it and you can continue with the bug. There are so many people in the comment section raisFull Review\"]"
      ]
     },
     "execution_count": 55,
     "metadata": {},
     "output_type": "execute_result"
    }
   ],
   "source": [
    "rapido_test[\"Reviews\"].tolist()"
   ]
  },
  {
   "cell_type": "code",
   "execution_count": 51,
   "metadata": {},
   "outputs": [
    {
     "data": {
      "text/plain": [
       "CountVectorizer(analyzer='word', binary=False, decode_error='strict',\n",
       "                dtype=<class 'numpy.int64'>, encoding='utf-8', input='content',\n",
       "                lowercase=True, max_df=1.0, max_features=None, min_df=1,\n",
       "                ngram_range=(1, 1), preprocessor=None, stop_words=None,\n",
       "                strip_accents=None, token_pattern='(?u)\\\\b\\\\w\\\\w+\\\\b',\n",
       "                tokenizer=None, vocabulary=None)"
      ]
     },
     "execution_count": 51,
     "metadata": {},
     "output_type": "execute_result"
    }
   ],
   "source": [
    "from sklearn.feature_extraction.text import CountVectorizer\n",
    "vectorizer=CountVectorizer()\n",
    "vectorizer"
   ]
  },
  {
   "cell_type": "code",
   "execution_count": 56,
   "metadata": {},
   "outputs": [
    {
     "data": {
      "text/plain": [
       "array([[0, 0, 0, ..., 0, 0, 0],\n",
       "       [0, 0, 0, ..., 0, 0, 0],\n",
       "       [0, 0, 0, ..., 0, 0, 0],\n",
       "       ...,\n",
       "       [0, 0, 0, ..., 0, 0, 0],\n",
       "       [0, 0, 0, ..., 0, 0, 0],\n",
       "       [0, 0, 0, ..., 0, 0, 0]], dtype=int64)"
      ]
     },
     "execution_count": 56,
     "metadata": {},
     "output_type": "execute_result"
    }
   ],
   "source": [
    "x=vectorizer=CountVectorizer(max_df=.85,stop_words=stop_1,max_features=10000,token_pattern='[a-zA-Z][a-zA-Z]{2,}')\n",
    "x=vectorizer.fit_transform(rapido_test['Reviews'])\n",
    "x.toarray()"
   ]
  },
  {
   "cell_type": "code",
   "execution_count": 58,
   "metadata": {},
   "outputs": [
    {
     "data": {
      "text/plain": [
       "1583"
      ]
     },
     "execution_count": 58,
     "metadata": {},
     "output_type": "execute_result"
    }
   ],
   "source": [
    "feature_names=vectorizer.get_feature_names()\n",
    "len(feature_names)"
   ]
  },
  {
   "cell_type": "code",
   "execution_count": 59,
   "metadata": {},
   "outputs": [],
   "source": [
    "datafielbad_1 = open(\"datafilebad_1.txt\",\"w\")\n",
    "for i in feature_names:\n",
    "    datafielbad_1.write(i)\n",
    "    datafielbad_1.write(\"\\n\")\n",
    "datafielbad_1.close()"
   ]
  },
  {
   "cell_type": "code",
   "execution_count": 60,
   "metadata": {},
   "outputs": [],
   "source": [
    "import nltk\n",
    "\n",
    "File = open(\"datafilebad_1.txt\",\"r\") #open file\n",
    "lines = File.read() #read all lines\n",
    "sentences = nltk.sent_tokenize(lines) #tokenize sentences\n",
    "nouns = [] #empty to array to hold all nouns\n",
    "\n",
    "for sentence in sentences:\n",
    "     for word,pos in nltk.pos_tag(nltk.word_tokenize(str(sentence))):\n",
    "         if (pos == 'JJ' or pos == 'JJR' or pos == 'JJS'):\n",
    "             nouns.append(word)"
   ]
  },
  {
   "cell_type": "code",
   "execution_count": 43,
   "metadata": {},
   "outputs": [
    {
     "name": "stderr",
     "output_type": "stream",
     "text": [
      "[nltk_data] Downloading package averaged_perceptron_tagger to\n",
      "[nltk_data]     C:\\Users\\Yoganand\\AppData\\Roaming\\nltk_data...\n",
      "[nltk_data]   Unzipping taggers\\averaged_perceptron_tagger.zip.\n"
     ]
    },
    {
     "data": {
      "text/plain": [
       "True"
      ]
     },
     "execution_count": 43,
     "metadata": {},
     "output_type": "execute_result"
    }
   ],
   "source": [
    "nltk.download('averaged_perceptron_tagger')"
   ]
  },
  {
   "cell_type": "code",
   "execution_count": 41,
   "metadata": {},
   "outputs": [
    {
     "name": "stderr",
     "output_type": "stream",
     "text": [
      "[nltk_data] Downloading package punkt to\n",
      "[nltk_data]     C:\\Users\\Yoganand\\AppData\\Roaming\\nltk_data...\n",
      "[nltk_data]   Unzipping tokenizers\\punkt.zip.\n"
     ]
    },
    {
     "data": {
      "text/plain": [
       "True"
      ]
     },
     "execution_count": 41,
     "metadata": {},
     "output_type": "execute_result"
    }
   ],
   "source": [
    "nltk.download('punkt')"
   ]
  },
  {
   "cell_type": "code",
   "execution_count": 61,
   "metadata": {},
   "outputs": [],
   "source": [
    "sairam = open(\"sairam_final.txt\",\"w\")\n",
    "for i in nouns:\n",
    "    sairam.write(i)\n",
    "    sairam.write(\"\\n\")"
   ]
  },
  {
   "cell_type": "code",
   "execution_count": 62,
   "metadata": {},
   "outputs": [],
   "source": [
    "sairam.close()"
   ]
  },
  {
   "cell_type": "code",
   "execution_count": 97,
   "metadata": {},
   "outputs": [],
   "source": [
    "dellines = open(\"sairam_final.txt\",\"r\")\n",
    "newdelline = open(\"dellines.txt\",\"w\")\n",
    "for i in list(dellines.readlines()):\n",
    "    if i != \"\\n\":\n",
    "        if len(i)>=6:\n",
    "            for j in range(random.randint(1,len(i)+2)):\n",
    "                newdelline.write(i)\n",
    "        elif len(i)>=3 and len(i)<5:\n",
    "            for j in range(random.randint(1,len(i)+2)):\n",
    "                newdelline.write(i)\n",
    "        else :\n",
    "            for j in range(random.randint(1,len(i)+2)):\n",
    "                newdelline.write(i)"
   ]
  },
  {
   "cell_type": "code",
   "execution_count": 98,
   "metadata": {},
   "outputs": [],
   "source": [
    "dellines.close()\n",
    "newdelline.close()"
   ]
  },
  {
   "cell_type": "code",
   "execution_count": 80,
   "metadata": {},
   "outputs": [],
   "source": [
    "import random"
   ]
  },
  {
   "cell_type": "code",
   "execution_count": 94,
   "metadata": {},
   "outputs": [
    {
     "data": {
      "text/plain": [
       "4"
      ]
     },
     "execution_count": 94,
     "metadata": {},
     "output_type": "execute_result"
    }
   ],
   "source": [
    "r = random.randint(2,7)\n",
    "r"
   ]
  },
  {
   "cell_type": "raw",
   "metadata": {},
   "source": []
  },
  {
   "cell_type": "code",
   "execution_count": null,
   "metadata": {},
   "outputs": [],
   "source": []
  }
 ],
 "metadata": {
  "kernelspec": {
   "display_name": "Python 3",
   "language": "python",
   "name": "python3"
  },
  "language_info": {
   "codemirror_mode": {
    "name": "ipython",
    "version": 3
   },
   "file_extension": ".py",
   "mimetype": "text/x-python",
   "name": "python",
   "nbconvert_exporter": "python",
   "pygments_lexer": "ipython3",
   "version": "3.7.4"
  }
 },
 "nbformat": 4,
 "nbformat_minor": 2
}
